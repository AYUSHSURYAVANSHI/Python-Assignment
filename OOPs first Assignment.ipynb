{
 "cells": [
  {
   "cell_type": "code",
   "execution_count": 7,
   "metadata": {},
   "outputs": [],
   "source": [
    "# Q1. Explain Class and Object with respect to Object-Oriented Programming. Give a suitable example.\n",
    "# Answer :- Python is an object oriented programming language.almost everything in Python is an object, with its properties and methods.\n",
    "# A Class is like an object constructor, or a \"blueprint\" for creating objects.Objects are instances of a class, and can be created from it.\n",
    "# code :-\n",
    "# class Person:\n",
    "#   def __init__(self, name, age):\n",
    "#     self.name = name\n",
    "#     self.age = age\n",
    "\n",
    "# p1 = Person(\"John\", 36)\n",
    "\n",
    "# print(p1.name)\n",
    "# print(p1.age)\n"
   ]
  },
  {
   "cell_type": "code",
   "execution_count": 8,
   "metadata": {},
   "outputs": [],
   "source": [
    "# Q2.Name the four pillars of OOPs.\n",
    "# Answer :- \n",
    "# 1. Abstraction\n",
    "# 2. Encapsulation\n",
    "# 3. Inheritance\n",
    "# 4. Polymorphism"
   ]
  },
  {
   "cell_type": "code",
   "execution_count": 9,
   "metadata": {},
   "outputs": [],
   "source": [
    "# Q3. Explain why the __init__() function is used. Give a suitable example.\n",
    "# Answer :-\n",
    "# __init__() function is used to initialize the object.\n",
    "# It is used to assign values to the object's properties, or other operations that are necessary to do when the object is created.\n",
    "# Example :- \n",
    "# class Student:\n",
    "#     def __init__(self, name, roll_no):\n",
    "#         self.name = name\n",
    "#         self.roll_no = roll_no\n",
    "#         self.marks = []\n",
    "#         self.total = 0\n",
    "#\n",
    "#     def add_marks(self, marks):\n",
    "#         self.marks.append(marks)\n",
    "#         self.total = sum(self.marks)\n",
    "\n",
    "\n",
    "\n"
   ]
  },
  {
   "cell_type": "code",
   "execution_count": 10,
   "metadata": {},
   "outputs": [],
   "source": [
    "# Q3. Explain why the __init__() function is used. Give a suitable example.\n",
    "# Answer :-  __init__ is a special python method that runs whenever a new object is created. \n",
    "# These types of functions are used to initialize the attributes of that class, E.g., if the class is Person, \n",
    "# then the attributes will be name,age,year.\n",
    "# Example :-\n",
    "class Person:\n",
    "    def __init__(self,name,age,year):\n",
    "        self.name = name\n",
    "        self.age = age\n",
    "        self.year = year\n",
    "        print(\"Name : \",self.name)\n",
    "        print(\"Age : \",self.age)\n",
    "        print(\"Year : \",self.year)"
   ]
  },
  {
   "cell_type": "code",
   "execution_count": 11,
   "metadata": {},
   "outputs": [],
   "source": [
    "# Q4. Why self is used in OOPs?\n",
    "# Answer :- SELF represents the instance of class. \n",
    "# This handy keyword allows you to access variables, attributes, and methods of a defined class in Python.\n",
    "# The self parameter doesn't have to be named “self,” as you can call it by any other name.\n",
    "\n"
   ]
  },
  {
   "cell_type": "code",
   "execution_count": 12,
   "metadata": {},
   "outputs": [],
   "source": [
    "# Q5. What is inheritance? Give an example for each type of inheritance.\n",
    "# Answer :-\n",
    "# Inheritance is a mechanism in which one class acquires all the properties and behaviors of another class\n",
    "# Parent class is the class being inherited from, also called base class.\n",
    "# Child class is the class that inherits from another class, also called derived class.\n",
    "# Type of Inheritance :-\n",
    "# Single Inheritance :-\n",
    "# In single inheritance, a class can inherit from only one parent class.\n",
    "# Multiple Inheritance :-\n",
    "# In multiple inheritance, a class can inherit from more than one parent class.\n",
    "# Multilevel Inheritance :-\n",
    "# In multilevel inheritance, a class can inherit from another class which in turn inherits from another\n",
    "# class.\n",
    "# Hierarchical Inheritance :-\n",
    "# In hierarchical inheritance, a class can inherit from another class which in turn inherits from another\n",
    "# class.\n",
    "\n",
    "\n"
   ]
  }
 ],
 "metadata": {
  "kernelspec": {
   "display_name": "Python 3",
   "language": "python",
   "name": "python3"
  },
  "language_info": {
   "codemirror_mode": {
    "name": "ipython",
    "version": 3
   },
   "file_extension": ".py",
   "mimetype": "text/x-python",
   "name": "python",
   "nbconvert_exporter": "python",
   "pygments_lexer": "ipython3",
   "version": "3.10.11"
  },
  "orig_nbformat": 4
 },
 "nbformat": 4,
 "nbformat_minor": 2
}
