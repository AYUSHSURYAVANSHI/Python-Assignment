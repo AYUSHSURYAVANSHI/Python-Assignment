{
 "cells": [
  {
   "cell_type": "code",
   "execution_count": 4,
   "metadata": {},
   "outputs": [],
   "source": [
    "# Q1. What is Abstraction in OOps? Explain with an example.\n",
    "# Answer :-\n",
    "# Abstraction is the process of hiding the implementation details and showing only the functionality to the user.\n",
    "# Example :-\n",
    "# Suppose we have a class called Car. This class has a method called start(). This method\n",
    "# is responsible for starting the car. Now, if we want to change the way the car starts\n",
    "# we can do that by changing the implementation of the start() method. But, if we want\n",
    "# to change the way the car starts we can do that by changing the implementation of the start()\n",
    "# method. But, if we want to change the way the car starts we can do ."
   ]
  },
  {
   "cell_type": "code",
   "execution_count": 5,
   "metadata": {},
   "outputs": [
    {
     "name": "stdout",
     "output_type": "stream",
     "text": [
      "Calling protected member of base class:  2\n",
      "Calling modified protected member outside class:  3\n",
      "Accessing protected member of obj1:  3\n",
      "Accessing protected member of obj2:  2\n"
     ]
    }
   ],
   "source": [
    "# Q2. Differentiate between Abstraction and Encapsulation. Explain with an example.\n",
    "# Answer :-\n",
    "# Abstraction :-\n",
    "# 1. Abstraction is the process of hiding the internal details and showing only the functionality to\n",
    "# the user.\n",
    "# 2. Abstraction is achieved by hiding the internal details of the object and showing only the\n",
    "# functionality to the user.\n",
    "# Encapsulation :-\n",
    "# 1. Encapsulation is the process of wrapping the data and the code acting on\n",
    "# the data together as a single unit.\n",
    "# 2. Encapsulation is achieved by wrapping the data and the code acting on the\n",
    "# data together as a single unit.\n",
    "\n",
    "# Example :-\n",
    "class Base:\n",
    "    def __init__(self):\n",
    "        self._a = 2\n",
    "class Derived(Base):\n",
    "    def __init__(self):\n",
    "        Base.__init__(self)\n",
    "        print(\"Calling protected member of base class: \",self._a)\n",
    "        self._a = 3\n",
    "        print(\"Calling modified protected member outside class: \",self._a)\n",
    "obj1 = Derived()\n",
    "obj2 = Base()\n",
    "print(\"Accessing protected member of obj1: \", obj1._a)\n",
    "print(\"Accessing protected member of obj2: \", obj2._a)\n"
   ]
  },
  {
   "cell_type": "code",
   "execution_count": 7,
   "metadata": {},
   "outputs": [
    {
     "name": "stdout",
     "output_type": "stream",
     "text": [
      "I have 3 sides\n",
      "I have 4 sides\n",
      "I have 5 sides\n",
      "I have 6 sides\n"
     ]
    }
   ],
   "source": [
    "# Q3. What is abc module in python? Why is it used?.\n",
    "# Answer:_\n",
    "# abc module is used to define abstract base classes.\n",
    "# An abstract class can be considered as a blueprint for other classes. It allows you to create a set of methods that must be created within any child classes built from the abstract class.\n",
    "\n",
    "# Example :-\n",
    "from abc import ABC, abstractmethod\n",
    " \n",
    "class Polygon(ABC):\n",
    " \n",
    "    @abstractmethod\n",
    "    def noofsides(self):\n",
    "        pass\n",
    " \n",
    "class Triangle(Polygon):\n",
    " \n",
    "    def noofsides(self):\n",
    "        print(\"I have 3 sides\")\n",
    " \n",
    "class Pentagon(Polygon):\n",
    " \n",
    "    def noofsides(self):\n",
    "        print(\"I have 5 sides\")\n",
    " \n",
    "class Hexagon(Polygon):\n",
    " \n",
    "    def noofsides(self):\n",
    "        print(\"I have 6 sides\")\n",
    " \n",
    "class Quadrilateral(Polygon):\n",
    " \n",
    "    def noofsides(self):\n",
    "        print(\"I have 4 sides\")\n",
    "R = Triangle()\n",
    "R.noofsides()\n",
    " \n",
    "K = Quadrilateral()\n",
    "K.noofsides()\n",
    " \n",
    "R = Pentagon()\n",
    "R.noofsides()\n",
    " \n",
    "K = Hexagon()\n",
    "K.noofsides()\n",
    "\n"
   ]
  },
  {
   "cell_type": "code",
   "execution_count": 8,
   "metadata": {},
   "outputs": [],
   "source": [
    "# Q4. How can we achieve data abstraction?\n",
    "# Answer :-\n",
    "# 1. We can achieve data abstraction by using the concept of encapsulation.\n"
   ]
  },
  {
   "cell_type": "code",
   "execution_count": null,
   "metadata": {},
   "outputs": [],
   "source": [
    "# Q5. Can we create an instance of an abstract class? Explain your answer.\n",
    "# Answer :-\n",
    "# No, we can't create an instance of an abstract class."
   ]
  }
 ],
 "metadata": {
  "kernelspec": {
   "display_name": "Python 3",
   "language": "python",
   "name": "python3"
  },
  "language_info": {
   "codemirror_mode": {
    "name": "ipython",
    "version": 3
   },
   "file_extension": ".py",
   "mimetype": "text/x-python",
   "name": "python",
   "nbconvert_exporter": "python",
   "pygments_lexer": "ipython3",
   "version": "3.10.11"
  },
  "orig_nbformat": 4
 },
 "nbformat": 4,
 "nbformat_minor": 2
}
