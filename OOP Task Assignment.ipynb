{
 "cells": [
  {
   "cell_type": "code",
   "execution_count": 8,
   "metadata": {},
   "outputs": [
    {
     "name": "stdout",
     "output_type": "stream",
     "text": [
      "splender\n",
      "100\n",
      "30\n"
     ]
    }
   ],
   "source": [
    "# Q1 Create a vehicle class with an init method having instance variables as name_of_vehicle, max_speed \n",
    "# and average_of_vehicle. \n",
    "# Answer :- \n",
    "class vehicle:\n",
    "    def __init__(self,name_of_vehicle,max_speed,average_of_vehicle):\n",
    "        self.name_of_vehicle = name_of_vehicle\n",
    "        self.max_speed = max_speed\n",
    "        self.average_of_vehicle = average_of_vehicle\n",
    "\n",
    "vehicle1 = vehicle(\"splender\",100,30)\n",
    "print(vehicle1.name_of_vehicle)\n",
    "print(vehicle1.max_speed)\n",
    "print(vehicle1.average_of_vehicle)\n"
   ]
  },
  {
   "cell_type": "code",
   "execution_count": 27,
   "metadata": {},
   "outputs": [
    {
     "ename": "TypeError",
     "evalue": "vehicle.__init__() missing 2 required positional arguments: 'max_speed' and 'average_of_vehicle'",
     "output_type": "error",
     "traceback": [
      "\u001b[1;31m---------------------------------------------------------------------------\u001b[0m",
      "\u001b[1;31mTypeError\u001b[0m                                 Traceback (most recent call last)",
      "Cell \u001b[1;32mIn[27], line 20\u001b[0m\n\u001b[0;32m     15\u001b[0m         \u001b[39mdef\u001b[39;00m \u001b[39mfull_info\u001b[39m(\u001b[39mself\u001b[39m):\n\u001b[0;32m     16\u001b[0m             \u001b[39mreturn\u001b[39;00m \u001b[39mf\u001b[39m\u001b[39m\"\u001b[39m\u001b[39m{\u001b[39;00m\u001b[39mself\u001b[39m\u001b[39m.\u001b[39mname_of_vehicle\u001b[39m}\u001b[39;00m\u001b[39m \u001b[39m\u001b[39m{\u001b[39;00m\u001b[39mself\u001b[39m\u001b[39m.\u001b[39mcapacity\u001b[39m}\u001b[39;00m\u001b[39m\"\u001b[39m\n\u001b[1;32m---> 20\u001b[0m vehicle1 \u001b[39m=\u001b[39m Car(\u001b[39m\"\u001b[39;49m\u001b[39mFour Person\u001b[39;49m\u001b[39m\"\u001b[39;49m)\n\u001b[0;32m     21\u001b[0m vehicle1 \u001b[39m=\u001b[39m vehicle(\u001b[39m\"\u001b[39m\u001b[39mheeo\u001b[39m\u001b[39m\"\u001b[39m)\n\u001b[0;32m     22\u001b[0m \u001b[39mprint\u001b[39m(vehicle\u001b[39m.\u001b[39mfull_info())\n",
      "\u001b[1;31mTypeError\u001b[0m: vehicle.__init__() missing 2 required positional arguments: 'max_speed' and 'average_of_vehicle'"
     ]
    }
   ],
   "source": [
    "# Q2.  Create a child class car from the vehicle class created in Que 1, which will inherit the vehicle class. \n",
    "# Create a method named seating_capacity which takes capacity as an argument and returns the name of \n",
    "# the vehicle and its seating capacity.\n",
    "#Answer :-\n",
    "class vehicle:\n",
    "    def __init__(self,name_of_vehicle,max_speed,average_of_vehicle):\n",
    "        self.name_of_vehicle = name_of_vehicle\n",
    "        self.max_speed = max_speed\n",
    "        self.average_of_vehicle = average_of_vehicle\n",
    "    \n",
    "class Car(vehicle):\n",
    "    def seating_capacity(self,capacity):\n",
    "        self.capacity = capacity\n",
    "\n",
    "        def full_info(self):\n",
    "            return f\"{self.name_of_vehicle} {self.capacity}\"\n",
    "      \n",
    " \n",
    "\n",
    "vehicle1 = Car(\"Four Person\")\n",
    "vehicle1 = vehicle(\"heeo\")\n",
    "print(vehicle.full_info())#\n",
    "\n",
    "\n",
    "\n",
    "        "
   ]
  },
  {
   "cell_type": "code",
   "execution_count": 29,
   "metadata": {},
   "outputs": [],
   "source": [
    "# Q3. What is multiple inheritance? Write a python code to demonstrate multiple inheritance.\n",
    "#Answer :-\n",
    "# Multiple inheritance :- Multiple inheritance is a feature of some object-oriented computer \n",
    "# programming languages in which an object or class can inherit features from more than one\n",
    "# parent object or parent class. It is distinct from single inheritance, where an object or class may only inherit from one particular object or class.\n",
    "\n",
    "# In Python, multiple inheritance is implemented using the concept of multiple base classes.\n",
    "# The syntax for multiple inheritance is:\n",
    "# Code:-\n",
    "class A:\n",
    "    def class_a_method(self):\n",
    "        return \"hello i am from Class A\"        \n",
    "class B:\n",
    "    def class_b_method(self):\n",
    "        return \"hello from class A\"\n",
    "    \n",
    "    def class_b_method(self):\n",
    "        return \"hello from class B\"\n",
    "    \n",
    "class C(B,A):\n",
    "    pass\n",
    "\n",
    "instance_C= C()\n",
    "\n",
    "print(instance_C.class_a_method())\n",
    "print(instance_C.class_b_method())\n",
    "print(instance_C.hello())\n",
    "\n",
    "\n",
    "\n",
    "\n",
    "\n"
   ]
  },
  {
   "cell_type": "code",
   "execution_count": 34,
   "metadata": {},
   "outputs": [],
   "source": [
    "# Q4. What are getter and setter in python? Create a class and create a getter and a setter method in this class.\n",
    "# Answer :- getters and setters are not the same as those in other object-oriented programming languages. Basically,\n",
    "# the main purpose of using getters and setters in object-oriented programs is to ensure data encapsulation\n",
    "# and data integrity.\n",
    "#\n",
    "# In Python, we can use the @property decorator to create a getter method and the @name\n",
    "# .setter decorator to create a setter method.\n",
    "#\n",
    "# class Student:\n",
    "#     def __init__(self, name, age):\n",
    "#         self.name = name\n",
    "#         self.age = age\n",
    "#\n",
    "#     @property\n",
    "#     def name(self):\n",
    "#         return self.__name\n",
    "#\n",
    "#     @name.setter\n",
    "#     def name(self, name):\n",
    "#         if len(name) < 3:\n",
    "#             raise ValueError(\"Name must be at least 3 characters long\")\n",
    "#         self.__name = name\n",
    "#\n"
   ]
  },
  {
   "cell_type": "code",
   "execution_count": null,
   "metadata": {},
   "outputs": [],
   "source": [
    "# Q5.What is method overriding in python? Write a python code to demonstrate method overriding.\n",
    "# Answer :-  Method Overriding:-\n",
    "# 1. In Python, we can override the methods of a parent class in a child class\n",
    "# 2. The child class method will override the parent class method with the same name.\n",
    "# 3. The child class method will inherit the parent class method with the same name.\n",
    "\n",
    "# Code :-\n",
    "class Parent:\n",
    "    def method(self):\n",
    "\n",
    "\n"
   ]
  }
 ],
 "metadata": {
  "kernelspec": {
   "display_name": "Python 3",
   "language": "python",
   "name": "python3"
  },
  "language_info": {
   "codemirror_mode": {
    "name": "ipython",
    "version": 3
   },
   "file_extension": ".py",
   "mimetype": "text/x-python",
   "name": "python",
   "nbconvert_exporter": "python",
   "pygments_lexer": "ipython3",
   "version": "3.10.11"
  },
  "orig_nbformat": 4
 },
 "nbformat": 4,
 "nbformat_minor": 2
}
