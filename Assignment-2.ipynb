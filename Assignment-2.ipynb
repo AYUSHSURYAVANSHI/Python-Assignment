{
 "cells": [
  {
   "cell_type": "code",
   "execution_count": 1,
   "id": "d5dbb7ed-4bbc-4e2c-866f-ab3f0e853f9f",
   "metadata": {},
   "outputs": [],
   "source": [
    "# Q1. How do you comment code in Python? What are the different types of comments?\n",
    "#Ans:-  we are use a '#' for the comment code in python.It is used for store a information about a code.\n",
    "# Example :- \n",
    "# # This is a comment\n",
    "# print(\"Hello World\")\n",
    "# print(\"This is a comment\")\n",
    "\n",
    "# Type of Comment\n",
    "# Single Line Comment :-  # This is a comment\n",
    "# Multi Line Comment :- \"\"\"This is a comment\"\"\"\n",
    "# Doc Comment :- \"\"\"This is a comment\"\"\""
   ]
  },
  {
   "cell_type": "code",
   "execution_count": 2,
   "id": "4cd7e124-153f-41d4-9cc5-369738d1d084",
   "metadata": {},
   "outputs": [],
   "source": [
    "# Q2. What are variables in Python? How do you declare and assign values to variables?\n",
    "# Ans:- A Python Variables is a symbolic name that is refrence or pointer to an Object is assigned to a variable ,you can refer to the Object by that name.\n",
    "# Variables are assigned a value by using the assignment operator (=).\n",
    "# Variables are declared by using the keyword var.\n",
    "# Example :-\n",
    "# var = 5\n",
    "# var = 5 + 2\n",
    "# var = 5 + 2 * 3\n",
    "# var = 5 + 2 * 3 / 2"
   ]
  },
  {
   "cell_type": "code",
   "execution_count": 3,
   "id": "80b778d8-55c9-466a-b904-cd7bbbb8abb0",
   "metadata": {},
   "outputs": [],
   "source": [
    "# Q3.How do you convert one data type to another in Python?\n",
    "# Ans:- We are used a convertion for convert one data type to another data type.\n",
    "# Example :-\n",
    "# int(x [base])\n",
    "# Converts x to an integer. base specifies the base if x is a string.\n",
    "# float(x)\n",
    "# Converts x to a floating-point number.\n",
    "# str(x)\n",
    "# Converts x to a string.\n",
    "# repr(x)\n",
    "# Converts x to a string representation.\n",
    "# hex(x)\n",
    "# Converts x to a hexadecimal string.\n",
    "# oct(x)\n",
    "# Converts x to an octal string.\n",
    "# bin(x)\n",
    "# Converts x to a binary string.\n",
    "# dict(x)\n",
    "# Converts x to a dictionary.\n",
    "# list(x)\n",
    "# Converts x to a list.\n",
    "# set(x)\n",
    "# Converts x to a set.\n",
    "# tuple(x)\n",
    "# Converts x to a tuple.\n",
    "# x.isalnum()\n",
    "# Returns True if x is a string and contains only alphanumeric characters.\n",
    "# abs(x)\n",
    "# Returns the absolute value of x.\n",
    "# pow(x, y)\n",
    "# Returns x raised to the power y.\n",
    "# min(x, y)\n",
    "# Returns the smaller of x and y.\n",
    "# max(x, y)\n",
    "# Returns the larger of x and y.\n",
    "# dir(x)\n",
    "# Prints the list of attributes of x.\n",
    "# id(x)\n",
    "# Returns the identity of x.\n",
    "# x.__class__\n",
    "# Returns the class of x.\n"
   ]
  },
  {
   "cell_type": "code",
   "execution_count": 4,
   "id": "ef1cfe48-3482-4f24-90bf-f87536cb9693",
   "metadata": {},
   "outputs": [],
   "source": [
    "# Q4. How do you write and execute a Python script from the command line?\n",
    "# Ans:- The most basic and easy way to run a Python script is by using the python command.\n",
    "# You need to open a command line and type the word python followed by the path to your script file like this.\n",
    "# To run a script, you must add the script name to the end of the command.\n",
    "# Example :-\n",
    "# python script.py\n",
    "# To run a script, you must add the script name to the end of the command.\n"
   ]
  },
  {
   "cell_type": "code",
   "execution_count": 5,
   "id": "dce6acad-24f1-4e50-a2ad-45a35b3bed7b",
   "metadata": {},
   "outputs": [
    {
     "name": "stdout",
     "output_type": "stream",
     "text": [
      "[2, 3]\n"
     ]
    }
   ],
   "source": [
    "# Q5. Given a list my_list = [1, 2, 3, 4, 5], write the code to slice the list and obtain the sub-list [2, 3].\n",
    "# Ans:- To slice a list, you can use the slice() function.\n",
    "# slice(start, end, step)\n",
    "my_list = [1,2,3,4,5]\n",
    "print(my_list[1:3])\n",
    "# Output - sub-list is [2,3]"
   ]
  },
  {
   "cell_type": "code",
   "execution_count": 6,
   "id": "530e8b7b-6f23-4e86-8375-f348b8e2f35d",
   "metadata": {},
   "outputs": [],
   "source": [
    "# Q6. What is a complex number in mathematics, and how is it represented in Python?\n",
    "# Ans:- Complex number is combination of real and imaginary part.\n",
    "# Complex number is represented in Python as a tuple.\n",
    "# x + yj\n",
    "# x - yj\n",
    "# x is the real part\n",
    "# y is the imaginary part\n",
    "# j is the imaginary unit\n"
   ]
  },
  {
   "cell_type": "code",
   "execution_count": 7,
   "id": "7be6fa17-e992-43f6-9000-d61e2a127e9d",
   "metadata": {},
   "outputs": [
    {
     "name": "stdout",
     "output_type": "stream",
     "text": [
      "25\n"
     ]
    }
   ],
   "source": [
    "# Q7. What is the correct way to declare a variable named age and assign the value 25 to it?\n",
    "#Ans:-\n",
    "age = 25\n",
    "print(age)\n",
    "# Output - 25\n",
    "# it is a carrent way to declare a variable named age and assign the value 25 to it."
   ]
  },
  {
   "cell_type": "code",
   "execution_count": 8,
   "id": "e1a3467f-90f1-4ecf-9755-50bcd4c60270",
   "metadata": {},
   "outputs": [
    {
     "name": "stdout",
     "output_type": "stream",
     "text": [
      "<class 'float'>\n"
     ]
    }
   ],
   "source": [
    "# Q8. Declare a variable named price and assign the value 9.99 to it. What data type does this variable belong to?\n",
    "# Ans:-\n",
    "price = 9.99\n",
    "print(type(price))\n",
    "# Output - <class 'float'>\n",
    "# Float is a numerical data type."
   ]
  },
  {
   "cell_type": "code",
   "execution_count": 9,
   "id": "9af2ce7e-1a94-4fc5-b751-5b49ae6f9933",
   "metadata": {},
   "outputs": [
    {
     "name": "stdout",
     "output_type": "stream",
     "text": [
      "Aman Kumar Sharma\n"
     ]
    }
   ],
   "source": [
    "# Q9. Create a variable named name and assign your full name to it as a string. How would you print the value of this variable ?\n",
    "# Ans:-\n",
    "name = \"Aman Kumar Sharma\"\n",
    "print(name)\n",
    "# Output - Aman Kumar Sharma"
   ]
  },
  {
   "cell_type": "code",
   "execution_count": 10,
   "id": "d6772e4b-bde1-4a2e-84f6-ea13906b06ce",
   "metadata": {},
   "outputs": [
    {
     "name": "stdout",
     "output_type": "stream",
     "text": [
      "World\n"
     ]
    }
   ],
   "source": [
    "# Q10. Given the string \"Hello, World!\", extract the substring \"World\"\n",
    "# Ans:-\n",
    "# substring(start, end)\n",
    "# substring(start, end) is a function that returns a substring of the string.\n",
    "# Example:-\n",
    "# print(string[start:end])\n",
    "str = \"Hello, World!\"  \n",
    "print(str[7:12])\n",
    "# Output - World"
   ]
  },
  {
   "cell_type": "code",
   "execution_count": null,
   "id": "f34f2a56-6b8a-46a6-a0e6-0b6dd5c1e8be",
   "metadata": {},
   "outputs": [],
   "source": [
    "# Q11. Create a variable named \"is_student\" and assign it a boolean value indicating whether you are currently a student or not.\n",
    "# Print the value of this variable.\n",
    "# Ans:-\n",
    "is_student = True\n",
    "if is_student == True:\n",
    "   print(is_student)\n",
    "   # Output - True \n",
    "else:\n",
    "   print(is_student)\n",
    "   # Output - False"
   ]
  }
 ],
 "metadata": {
  "kernelspec": {
   "display_name": "Python 3 (ipykernel)",
   "language": "python",
   "name": "python3"
  },
  "language_info": {
   "codemirror_mode": {
    "name": "ipython",
    "version": 3
   },
   "file_extension": ".py",
   "mimetype": "text/x-python",
   "name": "python",
   "nbconvert_exporter": "python",
   "pygments_lexer": "ipython3",
   "version": "3.10.8"
  }
 },
 "nbformat": 4,
 "nbformat_minor": 5
}
