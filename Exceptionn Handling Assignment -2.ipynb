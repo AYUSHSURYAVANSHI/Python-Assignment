{
 "cells": [
  {
   "cell_type": "code",
   "execution_count": 28,
   "metadata": {},
   "outputs": [
    {
     "name": "stdout",
     "output_type": "stream",
     "text": [
      "Inside Try Block\n",
      "Error Occurred This value cannot be used\n"
     ]
    }
   ],
   "source": [
    "# 1. Explain why we have to use the Exception class while creating a Custom Exception.\n",
    "#  Note: Here Exception class refers to the base class for all the exceptions.\n",
    "# Answer :- \n",
    "# We need to create our own exception because there are some errors that occur in Python which is not handled\n",
    "# by default and it needs special handling, so instead of writing code again and again for each error type\n",
    "# , we can write one generic function or method with try-except block wherein if any kind of\n",
    "# error occurs then this will be caught by except clause\n",
    "# and appropriate action taken accordingly\n",
    "\n",
    "class MyException(Exception):\n",
    "    pass\n",
    "def my_function():\n",
    "    raise ValueError(\"This value cannot be used\")\n",
    "try:\n",
    "    print('Inside Try Block')\n",
    "    # calling the custom defined function inside try block\n",
    "    my_function()\n",
    "    print('After Calling Function Inside Try Block')\n",
    "except (ValueError) as e :\n",
    "    print('Error Occurred',e)\n"
   ]
  },
  {
   "cell_type": "code",
   "execution_count": 29,
   "metadata": {},
   "outputs": [],
   "source": [
    "# Q2. Write a python program to print Python Exception Hierarchy.\n",
    "class BaseException(object):\n",
    "    pass\n",
    "class ArithmeticError(BaseException):\n",
    "    def __init__(self,value):\n",
    "        self.__value = value\n",
    "        @property\n",
    "        def error_val():\n",
    "            return \"Arithmetic Error\"\n",
    "        class ZeroDivisionError(ArithmeticError):\n",
    "            def __init__(self,*args,**kwargs):\n",
    "                super().__init__(*args)\n",
    "                if len(args)==0:\n",
    "                    raise ValueError(\"Zero Division\")\n",
    "                try:\n",
    "                    int(args[1])\n",
    "                except TypeError as e:\n",
    "                    raise TypeError(\"Only integer division is allowed.\")\n",
    "                else:\n",
    "                    raise ValueError(\"No arguments are passed in the function call\")\n",
    "                try:\n",
    "                    5/0\n",
    "                except (TypeError,ValueError) as e:\n",
    "                    print(e)\n",
    "                finally:\n",
    "                    print(\"This will be printed always\")\n",
    "\n"
   ]
  },
  {
   "cell_type": "code",
   "execution_count": 30,
   "metadata": {},
   "outputs": [
    {
     "ename": "ZeroDivisionError",
     "evalue": "division by zero",
     "output_type": "error",
     "traceback": [
      "\u001b[1;31m---------------------------------------------------------------------------\u001b[0m",
      "\u001b[1;31mZeroDivisionError\u001b[0m                         Traceback (most recent call last)",
      "Cell \u001b[1;32mIn[30], line 6\u001b[0m\n\u001b[0;32m      1\u001b[0m \u001b[39m# Q3. What errors are defined in the ArithmeticError class? Explain any two with an example.\u001b[39;00m\n\u001b[0;32m      2\u001b[0m \u001b[39m# Answer :-\u001b[39;00m\n\u001b[0;32m      3\u001b[0m \u001b[39m# 1) Division by zero error: This is raised when you try to divide\u001b[39;00m\n\u001b[0;32m      4\u001b[0m \u001b[39m# a number or expression by Zero (0).\u001b[39;00m\n\u001b[0;32m      5\u001b[0m \u001b[39m# Example:-\u001b[39;00m\n\u001b[1;32m----> 6\u001b[0m \u001b[39mprint\u001b[39m(\u001b[39m5\u001b[39;49m\u001b[39m/\u001b[39;49m\u001b[39m0\u001b[39;49m)\n\u001b[0;32m      7\u001b[0m \u001b[39m# Output :\u001b[39;00m\n\u001b[0;32m      8\u001b[0m \u001b[39m# Traceback (most recent call last):\u001b[39;00m\n",
      "\u001b[1;31mZeroDivisionError\u001b[0m: division by zero"
     ]
    }
   ],
   "source": [
    "# Q3. What errors are defined in the ArithmeticError class? Explain any two with an example.\n",
    "# Answer :-\n",
    "# 1) Division by zero error: This is raised when you try to divide\n",
    "# a number or expression by Zero (0).\n",
    "# Example:-\n",
    "print(5/0)\n",
    "# Output :\n",
    "# Traceback (most recent call last):\n"
   ]
  },
  {
   "cell_type": "code",
   "execution_count": null,
   "metadata": {},
   "outputs": [],
   "source": [
    "# Q4. Why LookupError class is used? Explain with an example KeyError and IndexError.\n",
    "# Answer :-\n",
    "# 1) The lookup error occurs when the key or index does not exist in a\n",
    "# dictionary, list etc\n",
    "# Example:-\n",
    "# dict = { 'a':20,'b':'python'}\n",
    "# print(dict['c']) # this will throw a Key Error\n",
    "# List = [1,3,5]\n",
    "# print(List[6]) # This Will Throw An Index Out Of Range Exception\n",
    "# 2) When we use try except block to handle exceptions then if any exception occur\n",
    "# inside it ,then that particular code which was written under try statement gets skipped .And only after skipping\n",
    "# of all statements inside try block python checks for errors raised by other blocks like finally block\n",
    "# and raise them again as another type of exception."
   ]
  },
  {
   "cell_type": "code",
   "execution_count": null,
   "metadata": {},
   "outputs": [],
   "source": [
    "# Q5. Explain ImportError. What is ModuleNotFoundError?\n",
    "# Answer :-\n",
    "# ImportError: No module named 'non_existing'\n",
    "import non_existing # This will throw an error as the file does not exist in current\n",
    "directory\n",
    "# ModuleNotFoundError: No module named 'non_existing'\n",
    "\n",
    "\n"
   ]
  },
  {
   "cell_type": "code",
   "execution_count": 32,
   "metadata": {},
   "outputs": [
    {
     "name": "stdout",
     "output_type": "stream",
     "text": [
      "division by zero\n",
      " I am trying to handle a zerodivition Error division by zero\n"
     ]
    }
   ],
   "source": [
    "# Q6. List down some best practices for exception handling in python.\n",
    "# Answer:-\n",
    "# use always a specific exception\n",
    "try:\n",
    "    10/0\n",
    "except Exception as e :\n",
    "    print(e) \n",
    "\n",
    "# use always a specific exception\n",
    "try:\n",
    "    10/0\n",
    "except ZeroDivisionError as e:\n",
    "    print(\" I am trying to handle a zerodivition Error\", e)\n",
    "\n",
    "# #always try to log your error\n",
    "# import logging\n",
    "# logging.basicConfig(filename = \"error.log\" , level = logging.ERROR)\n",
    "# try:\n",
    "#     10/0\n",
    "# except ZeroDivisionError as e :\n",
    "#     logging.error(\"I am Trying to handle a Zerodivition error\" , e)\n",
    "\n",
    "# #always avoid to write a multiple handling\n",
    "# try :\n",
    "#     10/0\n",
    "# except FileNotFoundError as e :\n",
    "#     logging.error(\"I am handling file not found error\")\n",
    "# except AttributeError as e :\n",
    "#     logging.error(\"I am handling Attribute Error\")\n",
    "# except ZeroDivisionError as e:\n",
    "#     logging.error(\"I am Trying to handle a Zerodivition error\")\n",
    "\n",
    "# # documnent all the Error \n",
    "# # clean up all the Resources\n",
    "# try:\n",
    "#     with open(\"text.txt\" , 'w') as f:\n",
    "#         f.write(\"this is my data to file\")\n",
    "# except FileNotFoundError as e :\n",
    "#     logging.error(\"I am Handling file not found error\")\n",
    "# finally :\n",
    "#     f.close()"
   ]
  }
 ],
 "metadata": {
  "kernelspec": {
   "display_name": "Python 3",
   "language": "python",
   "name": "python3"
  },
  "language_info": {
   "codemirror_mode": {
    "name": "ipython",
    "version": 3
   },
   "file_extension": ".py",
   "mimetype": "text/x-python",
   "name": "python",
   "nbconvert_exporter": "python",
   "pygments_lexer": "ipython3",
   "version": "3.10.11"
  },
  "orig_nbformat": 4
 },
 "nbformat": 4,
 "nbformat_minor": 2
}
