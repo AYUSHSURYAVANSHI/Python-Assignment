{
 "cells": [
  {
   "cell_type": "code",
   "execution_count": 49,
   "metadata": {},
   "outputs": [],
   "source": [
    "# Q1. What is an Exception in python? Write the difference between Exceptions and Syntax errors.\n",
    "# Answer :-\n",
    "# Exception is an error that occurs during the execution of a program.\n",
    "# Syntax error is an error that occurs while writing the program.\n",
    "\n"
   ]
  },
  {
   "cell_type": "code",
   "execution_count": 50,
   "metadata": {},
   "outputs": [
    {
     "name": "stdout",
     "output_type": "stream",
     "text": [
      "this is my exception block\n"
     ]
    }
   ],
   "source": [
    "# Q2. What happens when an exception is not handled? Explain with an example.\n",
    "# Answer :-\n",
    "# When an exception is not handled, the program terminates.\n",
    "# Example :-\n",
    "try :\n",
    "    f = open(\"test.txt\" , 'r')\n",
    "except Exception as e :\n",
    "    print(\"this is my exception block\")\n",
    "a = 3+3\n",
    "\n"
   ]
  },
  {
   "cell_type": "code",
   "execution_count": 51,
   "metadata": {},
   "outputs": [
    {
     "name": "stdout",
     "output_type": "stream",
     "text": [
      "You can't divide by zero\n"
     ]
    }
   ],
   "source": [
    "# Q3. Which Python statements are used to catch and handle exceptions? Explain with an example.\n",
    "# Answer :-\n",
    "# The try and except block in Python is used to catch and handle exceptions.\n",
    "\n",
    "try:\n",
    "    print(1/0) \n",
    "except ZeroDivisionError as e :\n",
    "    print(\"You can't divide by zero\")\n"
   ]
  },
  {
   "cell_type": "code",
   "execution_count": 57,
   "metadata": {},
   "outputs": [
    {
     "name": "stdout",
     "output_type": "stream",
     "text": [
      "Yeah ! Your answer is : 1\n",
      "Sorry ! You are dividing by zero \n",
      "Nothing went wrong\n",
      "The try...except block is finished\n"
     ]
    },
    {
     "ename": "Exception",
     "evalue": "Sorry, no numbers below zero",
     "output_type": "error",
     "traceback": [
      "\u001b[1;31m---------------------------------------------------------------------------\u001b[0m",
      "\u001b[1;31mException\u001b[0m                                 Traceback (most recent call last)",
      "Cell \u001b[1;32mIn[57], line 45\u001b[0m\n\u001b[0;32m     43\u001b[0m x \u001b[39m=\u001b[39m \u001b[39m-\u001b[39m\u001b[39m1\u001b[39m\n\u001b[0;32m     44\u001b[0m \u001b[39mif\u001b[39;00m x \u001b[39m<\u001b[39m \u001b[39m0\u001b[39m:\n\u001b[1;32m---> 45\u001b[0m   \u001b[39mraise\u001b[39;00m \u001b[39mException\u001b[39;00m(\u001b[39m\"\u001b[39m\u001b[39mSorry, no numbers below zero\u001b[39m\u001b[39m\"\u001b[39m)\n",
      "\u001b[1;31mException\u001b[0m: Sorry, no numbers below zero"
     ]
    }
   ],
   "source": [
    "# Q4. Explain with an example:\n",
    "# a.try and else\n",
    "# b.finall\n",
    "# c.raise \n",
    "# Answer :-\n",
    "#Try and Else :-\n",
    "# The try block lets you test a block of code for errors.\n",
    "# The except block lets you handle the error. The else block lets you execute code when there is no error.\n",
    "\n",
    "# Try and else Example :- \n",
    "def divide(x, y):\n",
    "    try:\n",
    "        result = x // y\n",
    "    except ZeroDivisionError:\n",
    "        print(\"Sorry ! You are dividing by zero \")\n",
    "    else:\n",
    "        print(\"Yeah ! Your answer is :\", result)\n",
    "   \n",
    "divide(3, 2)\n",
    "divide(3, 0)\n",
    "\n",
    "\n",
    "# finall :-\n",
    "# The finally keyword is used in try...except blocks. It defines a block of code to run when the try...except...else block is final.\n",
    "# The finally block will be executed no matter if the try block raises an error or not.\n",
    "# This can be useful to close objects and clean up resources.\n",
    "\n",
    "# Finally Example:-\n",
    "try:\n",
    "  x > 3\n",
    "except:\n",
    "  print(\"Something went wrong\")\n",
    "else:\n",
    "  print(\"Nothing went wrong\")\n",
    "finally:\n",
    "  print(\"The try...except block is finished\")\n",
    "\n",
    "# raise :- \n",
    "# As a Python developer you can choose to throw an exception if a condition occurs.\n",
    "# To throw (or raise) an exception, use the raise keyword.\n",
    "# raise Example \n",
    "\n",
    "x = -1\n",
    "if x < 0:\n",
    "  raise Exception(\"Sorry, no numbers below zero\")\n"
   ]
  },
  {
   "cell_type": "code",
   "execution_count": null,
   "metadata": {},
   "outputs": [],
   "source": [
    "# Q6. Create a custom exception class. Use this class to handle an exception.\n",
    "# Answer :-\n",
    "class CustomException(Exception):\n",
    "    def __init__(self,message=\"Custom Exception\"):\n",
    "        super().__init__()\n",
    "        self.__message = message\n",
    "        @property\n",
    "        def get_msg(self) -> str:\n",
    "            return f\"Error : {self.__message}\"\n",
    "        try:\n",
    "            raise CustomException(\"Test\")\n",
    "        except CustomException as e:\n",
    "            print(e.get_msg())"
   ]
  }
 ],
 "metadata": {
  "kernelspec": {
   "display_name": "Python 3",
   "language": "python",
   "name": "python3"
  },
  "language_info": {
   "codemirror_mode": {
    "name": "ipython",
    "version": 3
   },
   "file_extension": ".py",
   "mimetype": "text/x-python",
   "name": "python",
   "nbconvert_exporter": "python",
   "pygments_lexer": "ipython3",
   "version": "3.10.11"
  },
  "orig_nbformat": 4
 },
 "nbformat": 4,
 "nbformat_minor": 2
}
