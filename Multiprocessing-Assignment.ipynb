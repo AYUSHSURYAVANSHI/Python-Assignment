{
 "cells": [
  {
   "cell_type": "code",
   "execution_count": 1,
   "metadata": {},
   "outputs": [],
   "source": [
    "# Q1. What is multiprocessing in python? Why is it useful? \n",
    "# Answer :-\n",
    "# Multiprocessing allows you to run multiple processes simultaneously on a single machine, and the Python standard library provides\n",
    "# Multiprocessing allows you to run multiple processes simultaneously on a single machine, and the process module provides an\n",
    "# Multiprocessing allows you to run multiple processes at the same time, each with its own memory space and\n",
    "# separate Python interpreter instance. This means that if one process crashes or hangs for some reason then other\n",
    "# state. It’s a great way of speeding up your code by taking advantage of all available\n",
    "# cores on your machine or server."
   ]
  },
  {
   "cell_type": "code",
   "execution_count": 2,
   "metadata": {},
   "outputs": [],
   "source": [
    "# Q2. What are the differences between multiprocessing and multithreading?\n",
    "# Answer:-\n",
    "# Multiprocessing is a module in python which allows us to run multiple processes at once, while threading enables\n",
    "# Multiprocessing is a module in Python that allows you to use multiple processes, each running its own code\n",
    "# simultaneously on one or more cores of your CPU (or other processors). Multi-threading uses threads instead\n",
    "# of separate processes for parallelism; it’s not as efficient at using all available resources but can be easier \n",
    "# to implement than multiprocessinng.\n"
   ]
  },
  {
   "cell_type": "code",
   "execution_count": 5,
   "metadata": {},
   "outputs": [
    {
     "name": "stdout",
     "output_type": "stream",
     "text": [
      "The process has finished.\n"
     ]
    }
   ],
   "source": [
    "# Q3. Write a python code to create a process using the multiprocessing module.\n",
    "# Answer :-\n",
    "import multiprocessing\n",
    "\n",
    "def process_function():\n",
    "    # Code to be executed in the process\n",
    "    print(\"This is running in a separate process.\")\n",
    "\n",
    "if __name__ == '__main__':\n",
    "    # Create a process\n",
    "    process = multiprocessing.Process(target=process_function)\n",
    "\n",
    "    # Start the process\n",
    "    process.start()\n",
    "\n",
    "    # Wait for the process to finish\n",
    "    process.join()\n",
    "\n",
    "    # Check if the process is still alive\n",
    "    if process.is_alive():\n",
    "        print(\"The process is still running.\")\n",
    "    else:\n",
    "        print(\"The process has finished.\")\n"
   ]
  },
  {
   "cell_type": "code",
   "execution_count": 6,
   "metadata": {},
   "outputs": [],
   "source": [
    "# Q4. What is a multiprocessing pool in python? Why is it used ?\n",
    "# Answer :-\n",
    "# A multiprocessing pool in Python is a tool that allows you to run multiple processes simultaneously. This can be useful for tasks that are computationally intensive or that require a lot of I/O.\n",
    "# To create a multiprocessing pool, you can use the `multiprocessing.Pool()` function. This function takes a number of arguments, including the number of processes to create and the function that you want to run in each process."
   ]
  },
  {
   "cell_type": "code",
   "execution_count": 7,
   "metadata": {},
   "outputs": [],
   "source": [
    "# Q5. How can we create a pool of worker processes in python using the multiprocessing module?\n",
    "# Answer:-\n",
    "# import multiprocessing\n",
    "\n",
    "# def process_function(number):\n",
    "#     # Code to be executed by each worker process\n",
    "#     result = number * number\n",
    "#     return result\n",
    "\n",
    "# if __name__ == '__main__':\n",
    "#     # Create a pool of worker processes\n",
    "#     pool = multiprocessing.Pool()\n",
    "\n",
    "#     # Define a list of input values\n",
    "#     numbers = [1, 2, 3, 4, 5]\n",
    "\n",
    "#     # Apply the process_function to each input value using the pool\n",
    "#     results = pool.map(process_function, numbers)\n",
    "\n",
    "#     # Close the pool to prevent any more tasks from being submitted\n",
    "#     pool.close()\n",
    "\n",
    "#     # Wait for all the worker processes to finish\n",
    "#     pool.join()\n",
    "\n",
    "#     # Print the results\n",
    "#     print(results)\n",
    "\n",
    "\n"
   ]
  },
  {
   "cell_type": "code",
   "execution_count": 8,
   "metadata": {},
   "outputs": [
    {
     "name": "stdout",
     "output_type": "stream",
     "text": [
      "Done!\n"
     ]
    }
   ],
   "source": [
    "# Q6. Write a python program to create 4 processes, each process should print a different number using the \n",
    "# multiprocessing module in python.\n",
    "# Answer :-\n",
    "import multiprocessing\n",
    "\n",
    "def print_number(number):\n",
    "    print(f\"Process {number}: ThisS is the output from Process {number}.\")\n",
    "\n",
    "if __name__ == '__main__':\n",
    "    processes = []\n",
    "    for i in range(4):\n",
    "        # Create a process for each number\n",
    "        process = multiprocessing.Process(target=print_number, args=(i+1,))\n",
    "        processes.append(process)\n",
    "        process.start()\n",
    "\n",
    "    # Wait for all processes to finish\n",
    "    for process in processes:\n",
    "        process.join()\n",
    "\n",
    "    print(\"Done!\")"
   ]
  },
  {
   "cell_type": "code",
   "execution_count": null,
   "metadata": {},
   "outputs": [],
   "source": []
  }
 ],
 "metadata": {
  "kernelspec": {
   "display_name": "Python 3",
   "language": "python",
   "name": "python3"
  },
  "language_info": {
   "codemirror_mode": {
    "name": "ipython",
    "version": 3
   },
   "file_extension": ".py",
   "mimetype": "text/x-python",
   "name": "python",
   "nbconvert_exporter": "python",
   "pygments_lexer": "ipython3",
   "version": "3.10.11"
  },
  "orig_nbformat": 4
 },
 "nbformat": 4,
 "nbformat_minor": 2
}
