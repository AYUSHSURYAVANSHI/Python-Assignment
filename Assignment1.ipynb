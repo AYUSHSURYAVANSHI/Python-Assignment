{
 "cells": [
  {
   "cell_type": "code",
   "execution_count": 1,
   "id": "10f5978c-e32d-4529-a965-6a577c077935",
   "metadata": {},
   "outputs": [
    {
     "name": "stdout",
     "output_type": "stream",
     "text": [
      "Ayush\n",
      "[2, 3.4, 'naman', 7.9, 7.0]\n",
      "3.14\n",
      "(1, 2, 3, 4, 5)\n"
     ]
    }
   ],
   "source": [
    "# Q1. Create one variable containing following type of data:\n",
    "\n",
    "# (i)\tstring\n",
    "\n",
    "Name = \"Ayush\"\n",
    "print(Name)\n",
    "\n",
    "# (ii)\tlist\n",
    "\n",
    "l = [2,3.4,\"naman\",7.9,7.0]\n",
    "print(l)\n",
    "# (iii)\tfloat\n",
    "f = 3.14\n",
    "print(f)\n",
    "\n",
    "\n",
    "# (iv)\ttuple\n",
    "\n",
    "t = (1,2,3,4,5)\n",
    "print(t)\n"
   ]
  },
  {
   "cell_type": "code",
   "execution_count": 4,
   "id": "f993d1af-1e9c-420c-b4e7-6efc024e2151",
   "metadata": {},
   "outputs": [
    {
     "name": "stdout",
     "output_type": "stream",
     "text": [
      "<class 'str'>\n",
      "<class 'str'>\n",
      "<class 'list'>\n",
      "<class 'int'>\n"
     ]
    }
   ],
   "source": [
    "# Q2. Given are some following variables containing data:\n",
    "\n",
    "# (i)\tvar1 = ‘ ‘\n",
    "\n",
    "var1 = ' '\n",
    "print(type(var1)) # str\n",
    "# (ii)\tvar2 = ‘[ DS , ML , Python]’\n",
    "\n",
    "var2 = '[ DS , ML , Python]'\n",
    "print(type(var2)) # str\n",
    "\n",
    "\n",
    "\n",
    "# (iii)\tvar3 = [ ‘DS’ , ’ML’ , ‘Python’ ]\n",
    "\n",
    "var3 = [ 'DS' , 'ML' , 'Python' ]\n",
    "print(type(var3)) # list\n",
    "# (iv)\tvar4 = 1\n",
    "var4 = 1\n",
    "print(type(var4)) # int\n"
   ]
  },
  {
   "cell_type": "code",
   "execution_count": 6,
   "id": "6f81ce6d-ee11-4769-b937-82edd4dced2e",
   "metadata": {},
   "outputs": [
    {
     "name": "stdout",
     "output_type": "stream",
     "text": [
      "2.5\n",
      "1\n",
      "2\n",
      "25\n"
     ]
    }
   ],
   "source": [
    "# Q3. Explain the use of the following operators using an example:\n",
    "\n",
    "# (i)\t/\n",
    "\n",
    "print(5/2)\n",
    "\n",
    "# (ii)\t% \n",
    "print(5%2) # Modulus\n",
    "\n",
    "# (iii)\t//\n",
    "\n",
    "print(5//2) # Floor Division\n",
    "\n",
    "\n",
    "# (iv)\t**\n",
    "\n",
    "print(5**2)\n"
   ]
  },
  {
   "cell_type": "code",
   "execution_count": 8,
   "id": "19ad10fc-4c98-4be4-b50c-896963152fc1",
   "metadata": {},
   "outputs": [
    {
     "name": "stdout",
     "output_type": "stream",
     "text": [
      "2 <class 'int'>\n",
      "3.5 <class 'float'>\n",
      "ayush <class 'str'>\n",
      "['hello'] <class 'list'>\n",
      "(1, 2, 3) <class 'tuple'>\n",
      "{'name': 'Raj'} <class 'dict'>\n",
      "22 <class 'int'>\n",
      "11 <class 'int'>\n",
      "4.6 <class 'float'>\n",
      "33 <class 'int'>\n"
     ]
    }
   ],
   "source": [
    "# Q4. Create a list of length 10 of your choice containing multiple types of data. Using for loop print the \n",
    "# element and its data type.\n",
    "\n",
    "i = 0\n",
    "l = [2,3.5,\"ayush\",['hello'],(1,2,3),{'name': 'Raj'},22,11,4.6,33]\n",
    "for i in range(10):\n",
    "    l.append(i)\n",
    "    print(l[i],type(l[i]))\n",
    "    \n"
   ]
  },
  {
   "cell_type": "code",
   "execution_count": 10,
   "id": "ae915151-4a7e-4cdd-9571-6f0bafeda10f",
   "metadata": {},
   "outputs": [
    {
     "name": "stdin",
     "output_type": "stream",
     "text": [
      "Enter the number A:  4\n",
      "Enter the number B:  2\n"
     ]
    },
    {
     "name": "stdout",
     "output_type": "stream",
     "text": [
      "Number A is divisible by number B.\n",
      "It can be divided 2 times.\n"
     ]
    }
   ],
   "source": [
    "# Q5. Using a while loop, verify if the number A is purely divisible by number B and if so then how many \n",
    "# tim#es it can be divisible.\n",
    "\n",
    "A = int(input(\"Enter the number A: \"))\n",
    "B = int(input(\"Enter the number B: \"))\n",
    "\n",
    "count = 0\n",
    "while A % B == 0:\n",
    "    A = A // B\n",
    "    count += 1\n",
    "\n",
    "if count > 0:\n",
    "    print(\"Number A is divisible by number B.\")\n",
    "    print(\"It can be divided\", count, \"times.\")\n",
    "else:\n",
    "    print(\"Number A is not divisible by number B\")\n",
    "\n"
   ]
  },
  {
   "cell_type": "code",
   "execution_count": 12,
   "id": "d6a9e279-7d8f-479e-84c7-395b92fd1426",
   "metadata": {},
   "outputs": [
    {
     "name": "stdout",
     "output_type": "stream",
     "text": [
      "0 is divisible by 3\n",
      "1 is not divisible by 3\n",
      "2 is not divisible by 3\n",
      "3 is divisible by 3\n",
      "4 is not divisible by 3\n",
      "5 is not divisible by 3\n",
      "6 is divisible by 3\n",
      "7 is not divisible by 3\n",
      "8 is not divisible by 3\n",
      "9 is divisible by 3\n",
      "10 is not divisible by 3\n",
      "11 is not divisible by 3\n",
      "12 is divisible by 3\n",
      "13 is not divisible by 3\n",
      "14 is not divisible by 3\n",
      "15 is divisible by 3\n",
      "16 is not divisible by 3\n",
      "17 is not divisible by 3\n",
      "18 is divisible by 3\n",
      "19 is not divisible by 3\n",
      "20 is not divisible by 3\n",
      "21 is divisible by 3\n",
      "22 is not divisible by 3\n",
      "23 is not divisible by 3\n",
      "24 is divisible by 3\n"
     ]
    }
   ],
   "source": [
    "# Q6. Create a list containing 25 int type data. Using for loop and if-else condition print if the element is \n",
    "# divisible by 3 or not.\n",
    "\n",
    "l = []\n",
    "for i in range(25):\n",
    "    l.append(i)\n",
    "    if i%3 == 0:\n",
    "        print(i,'is divisible by 3')\n",
    "    else:\n",
    "        print(i,'is not divisible by 3')\n"
   ]
  },
  {
   "cell_type": "code",
   "execution_count": null,
   "id": "cddf2023-70a0-4df4-b5e5-4ccfecf7ce45",
   "metadata": {},
   "outputs": [],
   "source": []
  }
 ],
 "metadata": {
  "kernelspec": {
   "display_name": "Python 3 (ipykernel)",
   "language": "python",
   "name": "python3"
  },
  "language_info": {
   "codemirror_mode": {
    "name": "ipython",
    "version": 3
   },
   "file_extension": ".py",
   "mimetype": "text/x-python",
   "name": "python",
   "nbconvert_exporter": "python",
   "pygments_lexer": "ipython3",
   "version": "3.10.8"
  }
 },
 "nbformat": 4,
 "nbformat_minor": 5
}
