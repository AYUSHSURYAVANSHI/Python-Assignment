{
 "cells": [
  {
   "cell_type": "code",
   "execution_count": null,
   "metadata": {},
   "outputs": [],
   "source": [
    "# Q1. Explain GET and POST methods.\n",
    "# Answer :-\n",
    "# The GET and POST methods are two HTTP (Hypertext Transfer Protocol) request methods used for communication between a client (such as a web browser) and a server.\n",
    "\n",
    "# GET Method:\n",
    "# The GET method is used to retrieve data from a server. When a client sends a GET request, it is asking the server to send back a representation of a specific resource. The parameters and data associated with a GET request are sent in the URL query string. Some key points about the GET method are:\n",
    "# It is considered safe and idempotent, meaning multiple identical GET requests should have the same effect as a single request.\n",
    "# The data sent with a GET request is visible in the URL, as the parameters are appended to the URL query string.\n",
    "# GET requests can be cached by browsers and intermediary servers, making them suitable for retrieving static or non-sensitive data.\n",
    "# The length of the URL in a GET request is limited, so it is not suitable for sending large amounts of data.\n",
    "# POST Method:\n",
    "# The POST method is used to submit data to be processed by the server. When a client sends a POST request, it includes the data as part of the request body. The data can be in various formats such as JSON, form data, or XML. Some key points about the POST method are:\n",
    "# It is not considered safe or idempotent since multiple identical POST requests may have different effects.\n",
    "# The data sent with a POST request is not visible in the URL query string. Instead, it is included in the request body, making it more secure and suitable for sending sensitive or large amounts of data.\n",
    "# POST requests are not cached by default, as they are expected to modify server-side resources.\n",
    "# The length of the request body in a POST request is not limited, allowing for the transfer of large data sets.\n"
   ]
  },
  {
   "cell_type": "code",
   "execution_count": null,
   "metadata": {},
   "outputs": [],
   "source": [
    "# Q2. Why is request used in Flask?\n",
    "# Answer :-\n",
    "# The request object is used in Flask, which is a web framework for Python, to handle incoming HTTP requests. It provides access to the data sent by the client, such as form data, query parameters, headers, and the HTTP method used for the request.\n",
    "# Here are some reasons why the request object is used in Flask:\n",
    "\n",
    "# 1.Accessing form data: When a client submits a form in a web application, the form data is sent as part of an HTTP request. The request object allows Flask applications to easily access and retrieve this form data for processing.\n",
    "# 2.Handling query parameters: Query parameters are additional data appended to the URL in the form of key-value pairs. The request object provides methods to extract and use these parameters from the URL.\n",
    "# 3.Retrieving request headers: HTTP headers contain important information about the request, such as the user agent, content type, and authentication details. Flask's request object allows developers to access and utilize these headers.\n",
    "# 4.Determining the HTTP method: The request object provides the method attribute, which indicates the HTTP method used for the request, such as GET, POST, PUT, DELETE, etc. This information is essential for differentiating between different types of requests and handling them appropriately.\n",
    "# 5.Handling file uploads: When a client uploads a file to a Flask application, the request object allows the server-side code to access and process the uploaded file.\n"
   ]
  },
  {
   "cell_type": "code",
   "execution_count": null,
   "metadata": {},
   "outputs": [],
   "source": [
    "# Q3. Why is redirect() used in Flask?\n",
    "# Answer :-The redirect() function in Flask is used to redirect the user to a different URL or route within the application. It is a convenient way to handle certain scenarios, such as after a form submission, authentication, or when a user needs to be redirected to a different page.\n",
    "\n",
    "# Here are some reasons why the redirect() function is used in Flask:\n",
    "\n",
    "# 1.After form submission: When a user submits a form, the form data is typically processed on the server-side. After the processing is complete, it is often desirable to redirect the user to a different page to show the result or avoid resubmission of the form data. The redirect() function can be used to redirect the user to the appropriate page after form submission.\n",
    "# 2.URL routing: In a Flask application, different routes are defined to handle different URLs. The redirect() function allows developers to redirect the user to a different route based on certain conditions or application logic.\n",
    "# 3.Authentication and authorization: When implementing authentication and authorization in a Flask application, it is common to redirect the user to a login page if they are not authenticated or to a different page if they do not have the necessary permissions. The redirect() function is often used in such cases to redirect the user to the appropriate page.\n",
    "# 4.Handling success or error messages: After certain operations, such as creating a new resource or performing an action, it is common to show a success or error message to the user. The redirect() function can be used to redirect the user to a page that displays the appropriate message.\n",
    "# 5.Improving user experience: Redirecting users to different pages based on their actions or application logic can enhance the overall user experience. It allows developers to guide users to the relevant sections or provide appropriate feedback.\n"
   ]
  },
  {
   "cell_type": "code",
   "execution_count": null,
   "metadata": {},
   "outputs": [],
   "source": [
    "# Q4. What are templates in Flask? Why is the render_template() function used?\n",
    "# Answer :-\n",
    "# In Flask, templates are files that contain HTML, along with placeholders for dynamic content, which are rendered by the server and sent to the client's web browser. Templates provide a way to separate the presentation logic from the application logic, allowing for cleaner code organization and easier maintenance.\n",
    "# Here are some key points about templates in Flask:\n",
    "\n",
    "# 1.HTML presentation: Templates in Flask primarily consist of HTML code, which defines the structure and layout of the web pages. Templates can include static content, such as headers, footers, and navigation menus, as well as dynamic content that is generated by the server.\n",
    "# 2.Dynamic content placeholders: Templates often contain placeholders, also known as template variables or template tags, which are replaced with actual values during rendering. These placeholders allow Flask to inject dynamic content into the HTML, such as data from a database, user inputs, or calculated values.\n",
    "# 3.Template engines: Flask uses Jinja2 as its default template engine. Jinja2 provides a powerful set of features, including template inheritance, conditional statements, loops, and filters, which allow for flexible and reusable template designs.\n",
    "\n",
    "# Now, let's move on to the render_template() function:\n",
    "# The render_template() function is a built-in function in Flask that is used to render templates and generate the final HTML response to be sent to the client's browser. It takes the name of the template file as a parameter and optionally accepts additional data as keyword arguments.\n",
    "# Here's why the render_template() function is used:\n",
    "\n",
    "# 1.Rendering templates: The primary purpose of the render_template() function is to render the specified template file. It combines the HTML code in the template with the provided data to generate the final HTML response.\n",
    "# 2.Passing data to templates: The render_template() function allows developers to pass data from the server-side code to the templates. This data can include variables, lists, dictionaries, or objects, which can then be accessed and utilized within the template to dynamically generate content.\n",
    "# 3.Separation of concerns: The render_template() function promotes the separation of concerns by allowing developers to keep the application logic separate from the presentation logic. It enables them to focus on the backend logic in Python while leaving the HTML rendering to the templates.\n",
    "# 4.Reusability and code organization: Templates and the render_template() function facilitate code reusability and organization. Templates can be reused across multiple routes or views, reducing duplication of code. The render_template() function helps keep the route handlers or view functions clean and concise by delegating the HTML rendering to the templates."
   ]
  },
  {
   "cell_type": "code",
   "execution_count": null,
   "metadata": {},
   "outputs": [],
   "source": [
    "# Q5. Create a simple API. Use Postman to test it. Attach the screenshot of the output in the Jupyter Notebook.\n",
    "# Answer :-\n",
    "from flask import Flask, jsonify, request\n",
    "\n",
    "app = Flask(__name__)\n",
    "\n",
    "@app.route('/api/hello', methods=['GET'])\n",
    "def hello():\n",
    "    return jsonify({'message': 'Hello, World!'})\n",
    "\n",
    "@app.route('/api/sum', methods=['POST'])\n",
    "def sum_numbers():\n",
    "    data = request.get_json()\n",
    "    num1 = data['num1']\n",
    "    num2 = data['num2']\n",
    "    result = num1 + num2\n",
    "    return jsonify({'result': result})\n",
    "\n",
    "if __name__ == '__main__':\n",
    "    app.run(debug=True)"
   ]
  },
  {
   "cell_type": "code",
   "execution_count": null,
   "metadata": {},
   "outputs": [],
   "source": []
  }
 ],
 "metadata": {
  "kernelspec": {
   "display_name": "Python 3",
   "language": "python",
   "name": "python3"
  },
  "language_info": {
   "codemirror_mode": {
    "name": "ipython",
    "version": 3
   },
   "file_extension": ".py",
   "mimetype": "text/x-python",
   "name": "python",
   "nbconvert_exporter": "python",
   "pygments_lexer": "ipython3",
   "version": "3.10.11"
  },
  "orig_nbformat": 4
 },
 "nbformat": 4,
 "nbformat_minor": 2
}
