{
 "cells": [
  {
   "cell_type": "code",
   "execution_count": 8,
   "metadata": {},
   "outputs": [],
   "source": [
    "# # Q1. What is a database? Differentiate between SQL and NoSQL databases.\n",
    "# # Answer :-\n",
    "# A database is an organized collection of data, typically stored and accessed electronically from a computer system.\n",
    "# Databases are used to manage and store data efficiently and securely. They can be used to store a wide variety of data, including text, numbers, images, and videos.\n",
    "# Databases are essential for businesses of all sizes, as they provide a central repository for data that can be accessed and used by multiple users.\n",
    "# There are two main types of databases:\n",
    "# relational and NoSQL.\n",
    "# Relational databases store data in tables, which are related to each other by common fields. NoSQL databases do not use tables, and instead store data in a variety of different ways, such as key-value pairs, documents, or graphs.\n",
    "# SQL and NoSQL databases have different strengths and weaknesses. SQL databases are more structured and easier to query, but they can be more complex to manage. NoSQL databases are more flexible and scalable, but they can be more difficult to query.\n",
    "# The best database for a particular application depends on the specific requirements of the application.\n"
   ]
  },
  {
   "cell_type": "code",
   "execution_count": 9,
   "metadata": {},
   "outputs": [],
   "source": [
    "# Q2. What is DDL? Explain why CREATE, DROP, ALTER, and TRUNCATE are used with an example.\n",
    "# DDL stands for Data Definition Language. It is a subset of SQL (Structured Query Language) used to define and manage the structure of a database. DDL statements are used to create, modify, and delete database objects such as tables, indexes, views, and schemas.\n",
    "# Here's an explanation of the commonly used DDL statements with examples:\n",
    "\n",
    "# 1.CREATE: The CREATE statement is used to create new database objects such as tables, views, indexes, or schemas. For example, to create a table named \"Employees\" with columns for employee ID, name, and salary, you would use the following SQL statement:\n",
    "# CREATE TABLE Employees (\n",
    "#     ID INT,\n",
    "#     Name VARCHAR(50),\n",
    "#     Salary DECIMAL(10, 2)\n",
    "# );\n",
    "\n",
    "# 2.DROP: The DROP statement is used to delete an existing database object such as a table, view, index, or schema. It completely removes the object and its data from the database. For example, to drop the \"Employees\" table created earlier, you would use the following SQL statement:\n",
    "# DROP TABLE Employees;\n",
    "\n",
    "# 3.ALTER: The ALTER statement is used to modify the structure of an existing database object. It allows you to add, modify, or delete columns in a table, change data types, or rename objects. For example, to add a new column named \"Department\" to the \"Employees\" table, you would use the following SQL statement:\n",
    "# ALTER TABLE Employees\n",
    "# ADD Department VARCHAR(50);\n",
    "\n",
    "# 4.TRUNCATE: The TRUNCATE statement is used to remove all the data from a table while keeping its structure intact. It is faster and more efficient than the DELETE statement because it doesn't generate individual undo logs for each deleted row. For example, to remove all the data from the \"Employees\" table, you would use the following SQL statement:\n",
    "# TRUNCATE TABLE Employees;\n",
    "\n",
    "\n",
    "\n"
   ]
  },
  {
   "cell_type": "code",
   "execution_count": 10,
   "metadata": {},
   "outputs": [],
   "source": [
    "# # Q3. What is DML? Explain INSERT, UPDATE, and DELETE with an example.\n",
    "# # Answer :-\n",
    "# DML stands for Data Manipulation Language. It is a subset of SQL (Structured Query Language) used to manipulate the data within a database. DML statements are used to insert, update, and delete data in database tables.\n",
    "# Here's an explanation of the commonly used DML statements with examples:\n",
    "\n",
    "# 1.INSERT: The INSERT statement is used to insert new rows of data into a table. It allows you to specify the values for each column or insert data from another table. For example, to insert a new employee record into the \"Employees\" table, you would use the following SQL statemen\n",
    "# INSERT INTO Employees (ID, Name, Salary, Department)\n",
    "# VALUES (1, 'John Doe', 5000, 'Sales');\n",
    "\n",
    "# 2.UPDATE: The UPDATE statement is used to modify existing data in a table. It allows you to update one or more columns with new values based on specified conditions. For example, to update the salary of an employee with ID 1 in the \"Employees\" table, you would use the following SQL statement:\n",
    "# UPDATE Employees\n",
    "# SET Salary = 6000\n",
    "# WHERE ID = 1;\n",
    "\n",
    "# 3.DELETE: The DELETE statement is used to delete one or more rows from a table based on specified conditions. It removes the specified data from the table. For example, to delete all employees with a salary less than 5000 from the \"Employees\" table, you would use the following SQL statement:\n",
    "# DELETE FROM Employees\n",
    "# WHERE Salary < 5000;\n",
    "\n",
    "\n",
    "\n",
    "\n",
    "\n"
   ]
  },
  {
   "cell_type": "code",
   "execution_count": 11,
   "metadata": {},
   "outputs": [],
   "source": [
    "# # Q4. What is DQL? Explain SELECT with an example.\n",
    "# # Answer :-\n",
    "# DQL stands for Data Query Language. It is a subset of SQL (Structured Query Language) used to retrieve and manipulate data from a database. DQL statements are primarily focused on querying and fetching data from database tables.\n",
    "# The most commonly used DQL statement is SELECT, which allows you to retrieve data from one or more tables based on specified conditions. Here's an explanation of the SELECT statement with an example:\n",
    "# The SELECT statement is used to retrieve data from a database table. It allows you to specify the columns you want to retrieve, the table from which you want to retrieve data, and any conditions to filter the data. Here's a basic example:\n",
    "\n",
    "# Example :-\n",
    "# SELECT Name\n",
    "# FROM Employees\n",
    "# WHERE Age >= 30\n",
    "# ORDER BY Name ASC;"
   ]
  },
  {
   "cell_type": "code",
   "execution_count": 12,
   "metadata": {},
   "outputs": [],
   "source": [
    "# # Q5. Explain Primary Key and Foreign Key.\n",
    "# # Answer :-\n",
    "# Primary Key:\n",
    "# A primary key is a column or a set of columns in a database table that uniquely identifies each row in that table. It ensures that each row has a unique identifier and enforces data integrity. Some key points about primary keys are:\n",
    "\n",
    "# Uniqueness: Every value in the primary key column(s) must be unique. No two rows can have the same primary key value.\n",
    "# Non-nullability: A primary key column cannot have a null value. It must have a valid value for each row.\n",
    "# Single-value constraint: Each row in the table can have only one value for the primary key. It cannot be composed of multiple columns with multiple values.\n",
    "# Immutable: The primary key value should generally remain unchanged over the lifetime of a row. Modifying the primary key can have implications on referential integrity and relationships.\n",
    "# Primary keys are crucial for identifying and referencing specific rows in a table. They are often used as references by foreign keys in other tables to establish relationships.\n",
    "\n",
    "# Foreign Key:\n",
    "# A foreign key is a column or a set of columns in a database table that refers to the primary key of another table. It establishes a relationship between two tables, known as the parent table (referenced table) and the child table (referring table). Some key points about foreign keys are:\n",
    "# Referential Integrity: A foreign key ensures referential integrity by enforcing a relationship between tables. It guarantees that values in the foreign key column(s) of the child table match the values in the primary key column(s) of the parent table.\n",
    "# Relationship establishment: By defining a foreign key, you establish a link between two tables based on their primary key and foreign key relationship.\n",
    "# Multiple Foreign Keys: A table can have multiple foreign keys, each referring to a different parent table.\n",
    "# Cascading actions: Foreign keys can also specify cascading actions, such as CASCADE DELETE or CASCADE UPDATE, which dictate what happens to the child rows when the referenced parent rows are deleted or updated.\n",
    "# The foreign key constraint ensures that the relationship between tables is maintained and helps maintain data integrity. It allows for efficient querying and retrieval of related data from multiple tables.\n",
    "\n"
   ]
  },
  {
   "cell_type": "code",
   "execution_count": 1,
   "metadata": {},
   "outputs": [],
   "source": [
    "# Q6. Write a python code to connect MySQL to python. Explain the cursor() and execute() method.\n",
    "# Amswer :-\n",
    "# import mysql.connector\n",
    "# # Establishing a connection to MySQL\n",
    "# connection = mysql.connector.connect(\n",
    "#     host=\"localhost\",\n",
    "#     user=\"your_username\",\n",
    "#     password=\"your_password\",\n",
    "#     database=\"your_database\"\n",
    "# )\n",
    "\n",
    "# # Creating a cursor object\n",
    "# cursor = connection.cursor()"
   ]
  },
  {
   "cell_type": "code",
   "execution_count": 14,
   "metadata": {},
   "outputs": [],
   "source": [
    "# # Q7. Give the order of execution of SQL clauses in an SQL query.\n",
    "# # Answer :-\n",
    "\n",
    "\n",
    "# The order of execution of SQL clauses in an SQL query typically follows the following sequence:\n",
    "\n",
    "# 1.SELECT: The SELECT clause is the first clause to be executed in an SQL query. It specifies the columns to be retrieved from the database.\n",
    "# 2.FROM: The FROM clause is executed after the SELECT clause. It specifies the table or tables from which the data is being retrieved.\n",
    "# 3.WHERE: The WHERE clause is executed after the FROM clause. It filters the rows based on specified conditions.\n",
    "# 4.GROUP BY: The GROUP BY clause is executed after the WHERE clause. It groups the selected rows based on specified columns.\n",
    "# 5.HAVING: The HAVING clause is executed after the GROUP BY clause. It filters the grouped rows based on specified conditions.\n",
    "# 6.ORDER BY: The ORDER BY clause is executed after the HAVING clause. It sorts the result set based on specified columns and sorting criteria.\n",
    "# 7.LIMIT/OFFSET: The LIMIT/OFFSET clause is executed after the ORDER BY clause. It limits the number of rows returned by the query and specifies the starting point for fetching rows.\n"
   ]
  },
  {
   "cell_type": "code",
   "execution_count": null,
   "metadata": {},
   "outputs": [],
   "source": []
  }
 ],
 "metadata": {
  "kernelspec": {
   "display_name": "Python 3",
   "language": "python",
   "name": "python3"
  },
  "language_info": {
   "codemirror_mode": {
    "name": "ipython",
    "version": 3
   },
   "file_extension": ".py",
   "mimetype": "text/x-python",
   "name": "python",
   "nbconvert_exporter": "python",
   "pygments_lexer": "ipython3",
   "version": "3.10.11"
  },
  "orig_nbformat": 4
 },
 "nbformat": 4,
 "nbformat_minor": 2
}
